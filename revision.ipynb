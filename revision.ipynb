{
  "nbformat": 4,
  "nbformat_minor": 0,
  "metadata": {
    "colab": {
      "provenance": [],
      "include_colab_link": true
    },
    "kernelspec": {
      "name": "python3",
      "display_name": "Python 3"
    },
    "language_info": {
      "name": "python"
    }
  },
  "cells": [
    {
      "cell_type": "markdown",
      "metadata": {
        "id": "view-in-github",
        "colab_type": "text"
      },
      "source": [
        "<a href=\"https://colab.research.google.com/github/CHARAN452/Python_notes/blob/main/revision.ipynb\" target=\"_parent\"><img src=\"https://colab.research.google.com/assets/colab-badge.svg\" alt=\"Open In Colab\"/></a>"
      ]
    },
    {
      "cell_type": "code",
      "execution_count": null,
      "metadata": {
        "id": "zcfnWgHJbufd"
      },
      "outputs": [],
      "source": [
        "#what is python?\n",
        "#"
      ]
    },
    {
      "cell_type": "code",
      "source": [
        "#3types of numerical\n",
        "#int          1\n",
        "#float\n",
        "#complex    2 + 5j"
      ],
      "metadata": {
        "id": "HGWOrXEib9a-"
      },
      "execution_count": null,
      "outputs": []
    },
    {
      "cell_type": "code",
      "source": [
        "print(2+5j)  #j is iota---> root-1\n",
        "print(5j)\n",
        "#Can we replace the \"j\" with any alphbets--->we canno"
      ],
      "metadata": {
        "id": "i3Ly0V1qcOnj"
      },
      "execution_count": null,
      "outputs": []
    },
    {
      "cell_type": "code",
      "source": [
        "# 1. addition-- +\n",
        "# -\n",
        "# *\n",
        "# /\n",
        "# %\n",
        "print(10%2)\n",
        "print(5%2)\n",
        "print(10 / 2)\n",
        "#why i am getting the default dtype for division is float?\n"
      ],
      "metadata": {
        "id": "6iGh5mI-dBPY"
      },
      "execution_count": null,
      "outputs": []
    },
    {
      "cell_type": "code",
      "source": [
        "print(98755 % 2)\n",
        "#  **  --> to the power off\n",
        "print(10 ** 2)"
      ],
      "metadata": {
        "colab": {
          "base_uri": "https://localhost:8080/",
          "height": 106
        },
        "id": "zmrHzhmzf5vz",
        "outputId": "ca040b43-3d51-427e-c533-8540d53b34b5"
      },
      "execution_count": null,
      "outputs": [
        {
          "output_type": "error",
          "ename": "SyntaxError",
          "evalue": "invalid syntax (<ipython-input-33-569d1d5f0e7d>, line 3)",
          "traceback": [
            "\u001b[0;36m  File \u001b[0;32m\"<ipython-input-33-569d1d5f0e7d>\"\u001b[0;36m, line \u001b[0;32m3\u001b[0m\n\u001b[0;31m    print(10 * * 2)\u001b[0m\n\u001b[0m               ^\u001b[0m\n\u001b[0;31mSyntaxError\u001b[0m\u001b[0;31m:\u001b[0m invalid syntax\n"
          ]
        }
      ]
    },
    {
      "cell_type": "code",
      "source": [
        "# // it ignores the values after the decimal point\n",
        "#what is the difference between the floor and division?\n",
        "print(10 / 3)\n",
        "print(10 // 3)"
      ],
      "metadata": {
        "colab": {
          "base_uri": "https://localhost:8080/"
        },
        "id": "lseT7zgbgY0d",
        "outputId": "6854eb74-4eaf-433d-cb54-1866d1478aaa"
      },
      "execution_count": null,
      "outputs": [
        {
          "output_type": "stream",
          "name": "stdout",
          "text": [
            "3.3333333333333335\n",
            "3\n"
          ]
        }
      ]
    },
    {
      "cell_type": "code",
      "source": [
        "#round() will print next upcoming value if it is a decimal number and decimal value\n",
        "#is more than or equal to .5 then your getting next vale\n",
        "print(round(6))\n",
        "print(round(6.52))\n",
        "print(round(3.3578))\n",
        "print(round(3.354,2))\n",
        "print(round(6.3526489,1))\n",
        "#ceil:- Next upcoimng value or nearest value is known as ceil value\n",
        "#The value before the decimal point isknown as floor value"
      ],
      "metadata": {
        "id": "6rQ1nQ21g7Az"
      },
      "execution_count": null,
      "outputs": []
    },
    {
      "cell_type": "code",
      "source": [
        "print(round(12354.9876,-2))\n",
        "#the decimal number will become zero when you use -ve ndigits"
      ],
      "metadata": {
        "colab": {
          "base_uri": "https://localhost:8080/"
        },
        "id": "BIxlG7kOjt-l",
        "outputId": "3c778acf-bc38-4f4d-a1f4-d389da785fc6"
      },
      "execution_count": null,
      "outputs": [
        {
          "output_type": "stream",
          "name": "stdout",
          "text": [
            "12400.0\n"
          ]
        }
      ]
    },
    {
      "cell_type": "code",
      "source": [
        "#Types erros\n",
        "#2 types\n",
        "#1.syntax error:- breaking the rules of programming language\n",
        "#---> single ;line comment\n",
        "\"\"\" hi\n",
        "good day! \"\"\""
      ],
      "metadata": {
        "id": "D2Vu0o5Mk64o"
      },
      "execution_count": null,
      "outputs": []
    },
    {
      "cell_type": "code",
      "source": [
        "#2.logical error:-  except syntax error all the erroes comes under logical erros\n",
        "# ex:- attributes, name error, indentation error, recurssive"
      ],
      "metadata": {
        "id": "1RWI7bk3llqq"
      },
      "execution_count": null,
      "outputs": []
    },
    {
      "cell_type": "code",
      "source": [
        "#varaibles:- are containers that store data and reuse it\n",
        "a = 10\n",
        "b = 5"
      ],
      "metadata": {
        "colab": {
          "base_uri": "https://localhost:8080/"
        },
        "id": "wjYZAFTjl6N8",
        "outputId": "9343d827-a445-4e63-ab42-3db10afd3b02"
      },
      "execution_count": null,
      "outputs": [
        {
          "output_type": "stream",
          "name": "stdout",
          "text": [
            "15\n"
          ]
        }
      ]
    },
    {
      "cell_type": "code",
      "source": [
        "print(a % b)"
      ],
      "metadata": {
        "colab": {
          "base_uri": "https://localhost:8080/"
        },
        "id": "M8gNaXrhmiw8",
        "outputId": "1a679551-b216-4008-ccd7-1e4d51e54f19"
      },
      "execution_count": null,
      "outputs": [
        {
          "output_type": "stream",
          "name": "stdout",
          "text": [
            "0\n"
          ]
        }
      ]
    },
    {
      "cell_type": "code",
      "source": [
        "#rules to create varible\n",
        "a = \"hello world!\"\n",
        "print(a)"
      ],
      "metadata": {
        "id": "c_IO3OrQmxBV"
      },
      "execution_count": null,
      "outputs": []
    },
    {
      "cell_type": "code",
      "source": [
        "#2.dont start create varaibles by using number\n",
        "10 = \"hello\"\n",
        "print(10)"
      ],
      "metadata": {
        "id": "vusvT1SVm67w"
      },
      "execution_count": null,
      "outputs": []
    },
    {
      "cell_type": "code",
      "source": [
        "#you cannot use the special characters\n",
        "#@$%^&*\n",
        "son age = 20\n",
        "print(son@age)"
      ],
      "metadata": {
        "id": "nq-a-o1PnDzQ"
      },
      "execution_count": null,
      "outputs": []
    },
    {
      "cell_type": "code",
      "source": [
        "son2 = 20\n",
        "print(son2)"
      ],
      "metadata": {
        "colab": {
          "base_uri": "https://localhost:8080/"
        },
        "id": "Ynmeu1-ZnVCx",
        "outputId": "50553030-338f-451b-90fc-dbcc1cb958a9"
      },
      "execution_count": null,
      "outputs": [
        {
          "output_type": "stream",
          "name": "stdout",
          "text": [
            "20\n"
          ]
        }
      ]
    },
    {
      "cell_type": "code",
      "source": [
        "son_age = 20\n",
        "print(son_age)"
      ],
      "metadata": {
        "colab": {
          "base_uri": "https://localhost:8080/"
        },
        "id": "4A6O8FAbnclC",
        "outputId": "812deee4-4814-42b8-e499-ad28cb2786fb"
      },
      "execution_count": null,
      "outputs": [
        {
          "output_type": "stream",
          "name": "stdout",
          "text": [
            "20\n"
          ]
        }
      ]
    },
    {
      "cell_type": "code",
      "source": [
        "son2 = 2\n",
        "print(son)"
      ],
      "metadata": {
        "id": "jdn27RUAnmBi"
      },
      "execution_count": null,
      "outputs": []
    },
    {
      "cell_type": "code",
      "source": [
        "#take 3 varabile and 3 values and print in separate line\n",
        "a,b,c = 10,20,30\n",
        "# print(a)\n",
        "# print(b)\n",
        "# print(c)\n",
        "print(a,b,c, sep=\"\\n\")"
      ],
      "metadata": {
        "colab": {
          "base_uri": "https://localhost:8080/"
        },
        "id": "fYw9kQGyny9d",
        "outputId": "f5550189-dccb-4699-e4fa-0a8818cc3727"
      },
      "execution_count": null,
      "outputs": [
        {
          "output_type": "stream",
          "name": "stdout",
          "text": [
            "10\n",
            "20\n",
            "30\n"
          ]
        }
      ]
    },
    {
      "cell_type": "code",
      "source": [
        "#assign same value to 3 varaibles\n",
        "# a = 10\n",
        "# b = 10\n",
        "# c = 10\n",
        "a = b = c = 10\n",
        "print(a,b,c, sep=\"\\n\")"
      ],
      "metadata": {
        "id": "en1BvB8goJ1u"
      },
      "execution_count": null,
      "outputs": []
    },
    {
      "cell_type": "code",
      "source": [
        "#input() it intakes any information or data from user and store it as a string by default\n",
        "a = input()\n",
        "print(a)\n",
        "print(type(a))\n",
        "#what is the default data type for input()?\n",
        "#string"
      ],
      "metadata": {
        "id": "ievCg_JioY_G"
      },
      "execution_count": null,
      "outputs": []
    },
    {
      "cell_type": "code",
      "source": [
        "b = input(\"eneter the number\")\n",
        "c = input(\"eneter the num\")\n",
        "print(b+c)\n",
        "#adding two semtences is known as concatenation"
      ],
      "metadata": {
        "colab": {
          "base_uri": "https://localhost:8080/"
        },
        "id": "MHrf1Zp5pJZh",
        "outputId": "3a0a54ba-8e6c-4e34-84ce-0633b742d29a"
      },
      "execution_count": null,
      "outputs": [
        {
          "output_type": "stream",
          "name": "stdout",
          "text": [
            "eneter the number2---\n",
            "eneter the num%#@\n",
            "2---%#@\n"
          ]
        }
      ]
    },
    {
      "cell_type": "code",
      "source": [
        "b = float(input(\"eneter the number\"))\n",
        "c = float(input(\"eneter the num\"))\n",
        "print(b+c)"
      ],
      "metadata": {
        "colab": {
          "base_uri": "https://localhost:8080/"
        },
        "id": "vbyM_DjCp1RZ",
        "outputId": "d4f53196-ca21-48be-ec7f-15a21c867e89"
      },
      "execution_count": null,
      "outputs": [
        {
          "output_type": "stream",
          "name": "stdout",
          "text": [
            "eneter the number10.5\n",
            "eneter the num20.7\n",
            "31.2\n"
          ]
        }
      ]
    },
    {
      "cell_type": "code",
      "source": [
        "#string:- collection of multiple characters written inside the quotes\n",
        "# single line string (\"\") or (' ')\n",
        "#multiline string (\"\"\" \"\"\") or (''' ''')\n",
        "a = \"Hello world!\"\n",
        "#[index]\n",
        "print(a[1])"
      ],
      "metadata": {
        "colab": {
          "base_uri": "https://localhost:8080/"
        },
        "id": "aLjofetTqQCc",
        "outputId": "13472882-25f0-47b4-f061-03637eb88ce7"
      },
      "execution_count": null,
      "outputs": [
        {
          "output_type": "stream",
          "name": "stdout",
          "text": [
            "e\n"
          ]
        }
      ]
    },
    {
      "cell_type": "code",
      "source": [
        "print(a[6])\n",
        "#[start:end] #end is always idex_position number + 1\n",
        "print(a[0:5])\n",
        "#print even characters from the string\n",
        "print(a[0:12:2])\n",
        "#odd chracters\n",
        "print(a[1:12:2])"
      ],
      "metadata": {
        "id": "4KzJ0trDrnZZ"
      },
      "execution_count": null,
      "outputs": []
    },
    {
      "cell_type": "code",
      "source": [
        "print(len(a))"
      ],
      "metadata": {
        "colab": {
          "base_uri": "https://localhost:8080/"
        },
        "id": "oC-CQhyXtNcP",
        "outputId": "856c062b-2cd0-43e8-a325-7ec2d074ec91"
      },
      "execution_count": null,
      "outputs": [
        {
          "output_type": "stream",
          "name": "stdout",
          "text": [
            "12\n"
          ]
        }
      ]
    },
    {
      "cell_type": "code",
      "source": [
        "print(a[0:12:3])"
      ],
      "metadata": {
        "colab": {
          "base_uri": "https://localhost:8080/"
        },
        "id": "m9_wzIxTtVYM",
        "outputId": "2fe2ab9e-9d59-4cb2-9ba0-a6dbfe350134"
      },
      "execution_count": null,
      "outputs": [
        {
          "output_type": "stream",
          "name": "stdout",
          "text": [
            "Hlwl\n"
          ]
        }
      ]
    },
    {
      "cell_type": "code",
      "source": [
        "#print last character\n",
        "b = \"Hello\"\n",
        "print(b[-1:-6:-2])"
      ],
      "metadata": {
        "colab": {
          "base_uri": "https://localhost:8080/"
        },
        "id": "cs5yzDnjtpDg",
        "outputId": "f3f05ddd-062e-4f94-f98d-94da21b24d36"
      },
      "execution_count": null,
      "outputs": [
        {
          "output_type": "stream",
          "name": "stdout",
          "text": [
            "olH\n"
          ]
        }
      ]
    },
    {
      "cell_type": "code",
      "source": [
        "A = \"hello team how are you\"\n",
        "print(A[:])\n",
        "#[start as 0: end len(str)]\n",
        "print(A[::])\n",
        "#[start as 0: end len(str):step 1]\n",
        "#reverse entire string\n",
        "print(A[::-1])\n",
        "print(A[::2])\n",
        "print(A[1::2])"
      ],
      "metadata": {
        "id": "HO7PoTe8us9U"
      },
      "execution_count": null,
      "outputs": []
    },
    {
      "cell_type": "code",
      "source": [
        "h = \"hello world!\"\n",
        "print(dir(h))\n",
        "\"\"\"'capitalize', 'casefold', 'center', 'count', 'encode',\n",
        "'endswith', 'expandtabs', 'find', 'format', 'format_map',\n",
        "'index', 'isalnum', 'isalpha', 'isascii', 'isdecimal',\n",
        "'isdigit', 'isidentifier', 'islower', 'isnumeric', 'isprintable',\n",
        "'isspace', 'istitle', 'isupper', 'join', 'ljust', 'lower', 'lstrip',\n",
        "'maketrans', 'partition', 'removeprefix', 'removesuffix', 'replace',\n",
        " 'rfind', 'rindex', 'rjust', 'rpartition', 'rsplit', 'rstrip', 'split',\n",
        "  'splitlines', 'startswith', 'strip', 'swapcase', 'title', 'translate',\n",
        "  'upper', 'zfill' \"\"\""
      ],
      "metadata": {
        "colab": {
          "base_uri": "https://localhost:8080/"
        },
        "id": "HDzh6Fr_vYgr",
        "outputId": "0bb88e3d-e8d3-46d7-e121-fe263cc9d63d"
      },
      "execution_count": null,
      "outputs": [
        {
          "output_type": "stream",
          "name": "stdout",
          "text": [
            "['__add__', '__class__', '__contains__', '__delattr__', '__dir__', '__doc__', '__eq__', '__format__', '__ge__', '__getattribute__', '__getitem__', '__getnewargs__', '__gt__', '__hash__', '__init__', '__init_subclass__', '__iter__', '__le__', '__len__', '__lt__', '__mod__', '__mul__', '__ne__', '__new__', '__reduce__', '__reduce_ex__', '__repr__', '__rmod__', '__rmul__', '__setattr__', '__sizeof__', '__str__', '__subclasshook__', 'capitalize', 'casefold', 'center', 'count', 'encode', 'endswith', 'expandtabs', 'find', 'format', 'format_map', 'index', 'isalnum', 'isalpha', 'isascii', 'isdecimal', 'isdigit', 'isidentifier', 'islower', 'isnumeric', 'isprintable', 'isspace', 'istitle', 'isupper', 'join', 'ljust', 'lower', 'lstrip', 'maketrans', 'partition', 'removeprefix', 'removesuffix', 'replace', 'rfind', 'rindex', 'rjust', 'rpartition', 'rsplit', 'rstrip', 'split', 'splitlines', 'startswith', 'strip', 'swapcase', 'title', 'translate', 'upper', 'zfill']\n"
          ]
        }
      ]
    },
    {
      "cell_type": "code",
      "source": [
        "print(h.upper())\n",
        "#replace wolrd! with universe\n",
        "print(h.replace(\"world\",\"universe\"))"
      ],
      "metadata": {
        "colab": {
          "base_uri": "https://localhost:8080/"
        },
        "id": "8OT32oDswBC3",
        "outputId": "6670f170-50e9-4f9a-a681-45444fe9342e"
      },
      "execution_count": null,
      "outputs": [
        {
          "output_type": "stream",
          "name": "stdout",
          "text": [
            "HELLO WORLD!\n",
            "hello universe!\n"
          ]
        }
      ]
    },
    {
      "cell_type": "code",
      "source": [
        "a = \"   hello world    \"\n",
        "print(a.strip())\n",
        "print(a.lstrip())\n",
        "print(a.rstrip())"
      ],
      "metadata": {
        "colab": {
          "base_uri": "https://localhost:8080/"
        },
        "id": "Ypwnz5DTwQeK",
        "outputId": "b5d89fef-f7af-4a7a-ecc0-2cb822c37085"
      },
      "execution_count": null,
      "outputs": [
        {
          "output_type": "stream",
          "name": "stdout",
          "text": [
            "hello world\n",
            "hello world    \n",
            "   hello world\n"
          ]
        }
      ]
    },
    {
      "cell_type": "code",
      "source": [
        "#escape characters:- backwards slash:- is used to print illegal characters\n",
        "#string inside astring and you want print that string \"\"\n",
        "print(\"dwayne \\\"The Rock\\\" Jhonson\")"
      ],
      "metadata": {
        "colab": {
          "base_uri": "https://localhost:8080/"
        },
        "id": "tXW4GvXXwoC8",
        "outputId": "aadcdad5-e57a-48b3-91e5-57208adcb411"
      },
      "execution_count": null,
      "outputs": [
        {
          "output_type": "stream",
          "name": "stdout",
          "text": [
            "dwayne \"The Rock\" Jhonson\n"
          ]
        }
      ]
    },
    {
      "cell_type": "markdown",
      "source": [
        "**Collections**"
      ],
      "metadata": {
        "id": "PsOIMGoFz_ay"
      }
    },
    {
      "cell_type": "code",
      "source": [
        "#In the collection the the data can be stored in 2 types\n",
        "#1. Heterogenous data:-  if the collection is having multiple dtypes(int,float,str..etc) inside it is known as geterogenous data\n",
        "#2. Homogenous Data:-  if the collection is having single dtype(either int or float, or str) is known as homogenous data"
      ],
      "metadata": {
        "id": "IvAmytPBz-Gw"
      },
      "execution_count": null,
      "outputs": []
    },
    {
      "cell_type": "code",
      "source": [
        "#How mant types\n",
        "#1. list\n",
        "#2. Tuple\n",
        "#3. set\n",
        "#4. Dictinary"
      ],
      "metadata": {
        "id": "O78ph6Dq0-ul"
      },
      "execution_count": null,
      "outputs": []
    },
    {
      "cell_type": "markdown",
      "source": [
        "**List**"
      ],
      "metadata": {
        "id": "qBDUGv4t16IF"
      }
    },
    {
      "cell_type": "code",
      "source": [
        "#what is list?\n",
        "#list--> is odered, mutable(changable), allows the duplicate data\n",
        "#How can we create a list or decalre a list\n",
        "#list can be decalred by using [] each element in list is separated by [,]"
      ],
      "metadata": {
        "id": "lEazJRMd15ZP"
      },
      "execution_count": null,
      "outputs": []
    },
    {
      "cell_type": "markdown",
      "source": [
        "*list allows the duplicate data*"
      ],
      "metadata": {
        "id": "vzjoTkMb3QBs"
      }
    },
    {
      "cell_type": "code",
      "source": [
        "l1 = [\"apple\",\"banana\",\"pineapple\",\"orange\",\"apple\",\"banana\"]\n",
        "print(len(l1))\n",
        "print(type(l1))\n",
        "print(l1)"
      ],
      "metadata": {
        "id": "gfZspjIA3TK4",
        "colab": {
          "base_uri": "https://localhost:8080/"
        },
        "outputId": "93fcfa5f-6780-4ec3-8dc8-cf6eeb9431de"
      },
      "execution_count": null,
      "outputs": [
        {
          "output_type": "stream",
          "name": "stdout",
          "text": [
            "6\n",
            "<class 'list'>\n",
            "['apple', 'banana', 'pineapple', 'orange', 'apple', 'banana']\n"
          ]
        }
      ]
    },
    {
      "cell_type": "markdown",
      "source": [
        "*list is odered*"
      ],
      "metadata": {
        "id": "Zni9Fh-F4d3K"
      }
    },
    {
      "cell_type": "code",
      "source": [
        "#odered means items in the list is having a sequence of index position numbers\n",
        "#By using this index position number we are accessing the each item from the list\n",
        "#from the above list print('pineapple')\n",
        "print(l1[2])"
      ],
      "metadata": {
        "colab": {
          "base_uri": "https://localhost:8080/"
        },
        "id": "XHft4ZNj4dUa",
        "outputId": "1d1a79cc-cf77-4ba7-faa6-3fcec32ef159"
      },
      "execution_count": null,
      "outputs": [
        {
          "output_type": "stream",
          "name": "stdout",
          "text": [
            "pineapple\n"
          ]
        }
      ]
    },
    {
      "cell_type": "code",
      "source": [
        "#print the range opf item from apple to orange\n",
        "print(l1[0:4])   #end has to be n+1\n",
        "#Note:- silcing can be stop before one step to the eaxct end index position number"
      ],
      "metadata": {
        "colab": {
          "base_uri": "https://localhost:8080/"
        },
        "id": "yh4FPnag4BMI",
        "outputId": "19fb34e5-4023-49cc-b58a-e7727593858c"
      },
      "execution_count": null,
      "outputs": [
        {
          "output_type": "stream",
          "name": "stdout",
          "text": [
            "['apple', 'banana', 'pineapple', 'orange']\n"
          ]
        }
      ]
    },
    {
      "cell_type": "code",
      "source": [
        "l1 = [\"apple\",\"banana\",\"pineapple\",\"orange\",\"apple\",\"banana\"]\n",
        "#print the even position item from list?\n",
        "print(l1[0:7:2])\n",
        "print(l1[::2])\n",
        "#Reverse the entire list?\n",
        "print(l1[::-1])"
      ],
      "metadata": {
        "id": "E-VtS7N87Npm"
      },
      "execution_count": null,
      "outputs": []
    },
    {
      "cell_type": "markdown",
      "source": [
        "list is mutable\n",
        "\n",
        "  1.  swap or replace the data in existing list\n",
        "  2. add new items to the list\n",
        "  3. remove the items from the list"
      ],
      "metadata": {
        "id": "wsoQxl3w9bx6"
      }
    },
    {
      "cell_type": "code",
      "source": [
        "#How can we swap or replace the data in existing list\n",
        "#by using the index position number\n",
        "l1 = [\"apple\",\"banana\",\"pineapple\",\"orange\",\"apple\",\"banana\"]\n",
        "#replace the 2nd apple with banana\n",
        "l1[4] = \"kiwi\"\n",
        "print(l1)"
      ],
      "metadata": {
        "colab": {
          "base_uri": "https://localhost:8080/"
        },
        "id": "fcULhH8C9DbT",
        "outputId": "503f4bcc-edc4-4508-b28c-21ab8bc15551"
      },
      "execution_count": null,
      "outputs": [
        {
          "output_type": "stream",
          "name": "stdout",
          "text": [
            "['apple', 'banana', 'pineapple', 'orange', 'kiwi', 'banana']\n"
          ]
        }
      ]
    },
    {
      "cell_type": "code",
      "source": [
        "l1[4:] = \"grapes\",\"lemmon\"\n",
        "l1"
      ],
      "metadata": {
        "colab": {
          "base_uri": "https://localhost:8080/"
        },
        "id": "cdKddeIq-luU",
        "outputId": "fe5c987e-8937-4e0c-9160-91376a712215"
      },
      "execution_count": null,
      "outputs": [
        {
          "output_type": "execute_result",
          "data": {
            "text/plain": [
              "['apple', 'banana', 'pineapple', 'orange', 'grapes', 'lemmon']"
            ]
          },
          "metadata": {},
          "execution_count": 100
        }
      ]
    },
    {
      "cell_type": "code",
      "source": [
        "#replace 'pineapple', 'orange', with \"lemon\" and watermelon\n",
        "l1[2:4] = \"lemon\",\"watermelon\",\"mango\""
      ],
      "metadata": {
        "id": "9MOyqhNE-4i6"
      },
      "execution_count": null,
      "outputs": []
    },
    {
      "cell_type": "code",
      "source": [
        "l2 = ['apple', 'banana', 'pineapple', 'orange', 'grapes', 'lemmon']\n",
        "l2[2:4] = \"lemon\",\"watermelon\",\"mango\",\"muskmelon\"\n",
        "l2"
      ],
      "metadata": {
        "colab": {
          "base_uri": "https://localhost:8080/"
        },
        "id": "sBoPcM89_qsC",
        "outputId": "fd47d70c-e642-4ce8-8a26-20f841fda760"
      },
      "execution_count": null,
      "outputs": [
        {
          "output_type": "execute_result",
          "data": {
            "text/plain": [
              "['apple', 'banana', 'lemon', 'watermelon', 'mango', 'grapes', 'lemmon']"
            ]
          },
          "metadata": {},
          "execution_count": 103
        }
      ]
    },
    {
      "cell_type": "code",
      "source": [
        "l3 = ['apple', 'banana', 'pineapple', 'orange', 'grapes', 'lemmon']\n",
        "l3[2:4] = \"lemon\",\"watermelon\",\"mango\",\"muskmelon\"\n",
        "l3"
      ],
      "metadata": {
        "id": "_Quw9C7I_6WP"
      },
      "execution_count": null,
      "outputs": []
    },
    {
      "cell_type": "code",
      "source": [
        "l4 = ['apple', 'banana', 'pineapple', 'orange', 'grapes', 'lemmon']\n",
        "l4[2:4] = \"lemon\",\"watermelon\",\"mango\",\"muskmelon\"\n",
        "l4"
      ],
      "metadata": {
        "id": "pGFcs_7_AHAW"
      },
      "execution_count": null,
      "outputs": []
    },
    {
      "cell_type": "code",
      "source": [
        "#Note:- can we change the range of items in a list --> yes we can change\n",
        "\"\"\"l[start_index:end_index] but this is a bad practice\n",
        "if we give more than the index range items it changes or replace the items with\n",
        "existing index items so the index positions of characters can be changed\"\"\""
      ],
      "metadata": {
        "id": "0QgXtL47Chal"
      },
      "execution_count": null,
      "outputs": []
    },
    {
      "cell_type": "markdown",
      "source": [
        "**Adding new items to the list**\n",
        "\n",
        "16-11-2024"
      ],
      "metadata": {
        "id": "91bKpeHjDyOw"
      }
    },
    {
      "cell_type": "code",
      "source": [
        "l5 = ['apple', 'banana', 'pineapple', 'orange', 'grapes', 'lemmon']\n",
        "print(dir(l5)) #used to return method that are applicable on particular object"
      ],
      "metadata": {
        "id": "BzZYceTSDLm7"
      },
      "execution_count": null,
      "outputs": []
    },
    {
      "cell_type": "code",
      "source": [
        "\"\"\"'append', 'clear', 'copy', 'count', 'extend', 'index',\n",
        "'insert', 'pop', 'remove', 'reverse', 'sort' \"\"\""
      ],
      "metadata": {
        "id": "Q4NXQEeIEMtD"
      },
      "execution_count": null,
      "outputs": []
    },
    {
      "cell_type": "code",
      "source": [
        "l5 = ['apple', 'banana', 'pineapple', 'orange', 'grapes', 'lemmon']\n",
        "#append():- by default it adds the items at the end or last of list\n",
        "#what is the default index position when you use the append()?\n",
        "#add \"mango\" into l5\n",
        "l5.append('mango')\n",
        "print(l5)\n",
        "#Note:- we caanot add more than one item in the append method"
      ],
      "metadata": {
        "colab": {
          "base_uri": "https://localhost:8080/"
        },
        "id": "4ufc5Mk2EdTW",
        "outputId": "2c371723-448f-4e04-f8db-a52d20d6f8cb"
      },
      "execution_count": null,
      "outputs": [
        {
          "output_type": "stream",
          "name": "stdout",
          "text": [
            "['apple', 'banana', 'pineapple', 'orange', 'grapes', 'lemmon', 'mango']\n"
          ]
        }
      ]
    },
    {
      "cell_type": "code",
      "source": [
        "#How to add a item at particular index position?\n",
        "#insert(index,\"item_name\")\n",
        "#add  \"watermelon\" at second index position\n",
        "l5.insert(2,\"watermelon\")\n",
        "print(l5)\n",
        "#can we insert multiple items at a time--> No beacuse insert takes only 2 arguments"
      ],
      "metadata": {
        "colab": {
          "base_uri": "https://localhost:8080/"
        },
        "id": "lthuIsqsF4oa",
        "outputId": "f89bd478-09be-4e85-9461-0101caa2f15c"
      },
      "execution_count": null,
      "outputs": [
        {
          "output_type": "stream",
          "name": "stdout",
          "text": [
            "['apple', 'banana', 'watermelon', 'pineapple', 'orange', 'grapes', 'lemmon', 'mango']\n"
          ]
        }
      ]
    },
    {
      "cell_type": "code",
      "source": [
        "#Extend(collection name):-add multiple items in to list\n",
        "#by default extend method add items at the end of the list\n",
        "l6 = [1,2,3,4,5]\n",
        "l5.extend(l6)\n",
        "print(l5)"
      ],
      "metadata": {
        "colab": {
          "base_uri": "https://localhost:8080/"
        },
        "id": "MJ15jJrtGkIE",
        "outputId": "0afb3431-8837-45d8-c00d-2d2803bbe7d9"
      },
      "execution_count": null,
      "outputs": [
        {
          "output_type": "stream",
          "name": "stdout",
          "text": [
            "['apple', 'banana', 'watermelon', 'pineapple', 'orange', 'grapes', 'lemmon', 'mango', 1, 2, 3, 4, 5, 1, 2, 3, 4, 5]\n"
          ]
        }
      ]
    },
    {
      "cell_type": "code",
      "source": [
        "l5.insert(0,'berries')\n",
        "print(l5)"
      ],
      "metadata": {
        "colab": {
          "base_uri": "https://localhost:8080/"
        },
        "id": "0dQAv3v1H-MA",
        "outputId": "d7f3fe3d-5ae1-4e4e-f5d9-0483b9109fde"
      },
      "execution_count": null,
      "outputs": [
        {
          "output_type": "stream",
          "name": "stdout",
          "text": [
            "['berries', 'berries', 'apple', 'banana', 'watermelon', 'pineapple', 'orange', 'grapes', 'lemmon', 'mango', 1, 2, 3, 4, 5, 1, 2, 3, 4, 5]\n"
          ]
        }
      ]
    },
    {
      "cell_type": "code",
      "source": [
        "l5[1] =\"kiwi\"\n",
        "print(l5)"
      ],
      "metadata": {
        "colab": {
          "base_uri": "https://localhost:8080/"
        },
        "id": "OazFc4ndIRrg",
        "outputId": "4493c79d-f43a-4037-d3e6-20f6b5bd76de"
      },
      "execution_count": null,
      "outputs": [
        {
          "output_type": "stream",
          "name": "stdout",
          "text": [
            "['berries', 'kiwi', 'apple', 'banana', 'watermelon', 'pineapple', 'orange', 'grapes', 'lemmon', 'mango', 1, 2, 3, 4, 5, 1, 2, 3, 4, 5]\n"
          ]
        }
      ]
    },
    {
      "cell_type": "markdown",
      "source": [
        "**remove items from the lsit**"
      ],
      "metadata": {
        "id": "_pMidoN8Kipl"
      }
    },
    {
      "cell_type": "code",
      "source": [
        "l7 = ['berries', 'kiwi', 'apple', 'banana', 'watermelon', 'pineapple', 'orange', 'grapes', 'lemmon', 'mango']\n",
        "#1.pop(index_position number) by default it remove last element from the list\n",
        "l7.pop()\n",
        "print(l7)"
      ],
      "metadata": {
        "colab": {
          "base_uri": "https://localhost:8080/"
        },
        "id": "gOdaXiclI2j6",
        "outputId": "3947f129-c44d-4e1f-9a13-8878a2248b9c"
      },
      "execution_count": null,
      "outputs": [
        {
          "output_type": "stream",
          "name": "stdout",
          "text": [
            "['berries', 'kiwi', 'apple', 'banana', 'watermelon', 'pineapple', 'orange', 'grapes', 'lemmon']\n"
          ]
        }
      ]
    },
    {
      "cell_type": "code",
      "source": [
        "l7.pop(0)\n",
        "l7"
      ],
      "metadata": {
        "id": "bzrKmxruLCHb"
      },
      "execution_count": null,
      "outputs": []
    },
    {
      "cell_type": "code",
      "source": [
        "#remove(item name\n",
        "l7.remove('watermelon')\n",
        "print(l7)"
      ],
      "metadata": {
        "colab": {
          "base_uri": "https://localhost:8080/"
        },
        "id": "y3nF_WBPLNPb",
        "outputId": "65c91022-8c60-4674-c91d-db50252317b5"
      },
      "execution_count": null,
      "outputs": [
        {
          "output_type": "stream",
          "name": "stdout",
          "text": [
            "['kiwi', 'apple', 'banana', 'pineapple', 'orange', 'grapes', 'lemmon']\n"
          ]
        }
      ]
    },
    {
      "cell_type": "code",
      "source": [
        "l7.remove() #list.remove() takes exactly one argument (0 given)\n",
        "l7"
      ],
      "metadata": {
        "id": "hKi_pz6gLl2H"
      },
      "execution_count": null,
      "outputs": []
    },
    {
      "cell_type": "code",
      "source": [
        "#how can remove the multiple items from the list?\n",
        "# use \"del collection_name[startindex:end index]\n",
        "l8 = ['kiwi', 'apple', 'banana', 'pineapple', 'orange', 'grapes']\n",
        "#remove \"'apple', 'banana', 'pineapple'\n",
        "del l8[1:4]\n",
        "print(l8)\n",
        "# del l8[::2] even\n",
        "# del l8[1::2] odd\n"
      ],
      "metadata": {
        "id": "eiM_ORU5MVtF"
      },
      "execution_count": null,
      "outputs": []
    },
    {
      "cell_type": "code",
      "source": [
        "l8 = ['kiwi', 'apple', 'banana', 'pineapple', 'orange', 'grapes']\n",
        "del l8[1::2]\n",
        "print(l8)"
      ],
      "metadata": {
        "colab": {
          "base_uri": "https://localhost:8080/"
        },
        "id": "Ncz0BDgBPc9k",
        "outputId": "bef7c74f-e092-4b21-ea06-43d4787a0546"
      },
      "execution_count": null,
      "outputs": [
        {
          "output_type": "stream",
          "name": "stdout",
          "text": [
            "['kiwi', 'banana', 'orange']\n"
          ]
        }
      ]
    },
    {
      "cell_type": "code",
      "source": [
        "l8"
      ],
      "metadata": {
        "colab": {
          "base_uri": "https://localhost:8080/"
        },
        "id": "OF7LHhp9PyHa",
        "outputId": "95d5b48b-77ff-4d92-ff3e-4bda31579cb3"
      },
      "execution_count": null,
      "outputs": [
        {
          "output_type": "execute_result",
          "data": {
            "text/plain": [
              "['apple', 'pineapple', 'grapes']"
            ]
          },
          "metadata": {},
          "execution_count": 24
        }
      ]
    },
    {
      "cell_type": "code",
      "source": [
        "#how clear entire data from l8\n",
        "l8.clear()\n",
        "print(l8)"
      ],
      "metadata": {
        "colab": {
          "base_uri": "https://localhost:8080/"
        },
        "id": "b0tgaU9jM9-t",
        "outputId": "0f1334e1-1084-4ab3-daa0-45d290e170fb"
      },
      "execution_count": null,
      "outputs": [
        {
          "output_type": "stream",
          "name": "stdout",
          "text": [
            "[]\n"
          ]
        }
      ]
    },
    {
      "cell_type": "code",
      "source": [
        "del l8\n",
        "print(l8)"
      ],
      "metadata": {
        "id": "Fqr-lNVnOjIT"
      },
      "execution_count": null,
      "outputs": []
    },
    {
      "cell_type": "markdown",
      "source": [
        "#Tuples"
      ],
      "metadata": {
        "id": "FyevtQZvQIIK"
      }
    },
    {
      "cell_type": "code",
      "source": [
        "#what is tuple?\n",
        "#how can you define a tuple?\n",
        "#tuples can be decalred in () each element in tuple is serated by (,)\n",
        "#Tuple is defined as --> odered, immutable(unchangable), allows the duplicates"
      ],
      "metadata": {
        "id": "RsnCV8YBQMKj"
      },
      "execution_count": null,
      "outputs": []
    },
    {
      "cell_type": "markdown",
      "source": [
        "**tuple allows the duplicates**"
      ],
      "metadata": {
        "id": "0y9EfqyjQu0F"
      }
    },
    {
      "cell_type": "code",
      "source": [
        "t1 = ('kiwi', 'apple', 'banana', 'pineapple', 'orange', 'grapes','kiwi','apple')\n",
        "print(len(t1))\n",
        "print(type(t1))"
      ],
      "metadata": {
        "id": "dNMv9AdxQueS"
      },
      "execution_count": null,
      "outputs": []
    },
    {
      "cell_type": "markdown",
      "source": [
        "**Tuple is odered**"
      ],
      "metadata": {
        "id": "QdiNS5VLRTIx"
      }
    },
    {
      "cell_type": "code",
      "source": [
        "#odered:- each element in the tuple is having sequence of index position numbers\n",
        "print(t1[2])\n",
        "print(t1[-1])\n",
        "#'banana', 'pineapple', 'orange', 'grapes'\n",
        "print(t1[2:6])\n",
        "print(t1[::2])\n",
        "print(t1[1::2])\n",
        "#reverse t1\n",
        "print(t1[::-1])"
      ],
      "metadata": {
        "id": "lszTbtHaRWwK"
      },
      "execution_count": null,
      "outputs": []
    },
    {
      "cell_type": "markdown",
      "source": [
        "**Tuple is immuatble**"
      ],
      "metadata": {
        "id": "AZsK4y8aSaLH"
      }
    },
    {
      "cell_type": "code",
      "source": [
        "#means we cannot replace, add, remove the items from the tuple\n",
        "print(dir(t1))\n",
        "#'count', 'index'"
      ],
      "metadata": {
        "colab": {
          "base_uri": "https://localhost:8080/"
        },
        "id": "xd_0cVa4SZjY",
        "outputId": "34488cbc-dbd1-4514-9a0f-e81f526003a8"
      },
      "execution_count": null,
      "outputs": [
        {
          "output_type": "stream",
          "name": "stdout",
          "text": [
            "['__add__', '__class__', '__class_getitem__', '__contains__', '__delattr__', '__dir__', '__doc__', '__eq__', '__format__', '__ge__', '__getattribute__', '__getitem__', '__getnewargs__', '__gt__', '__hash__', '__init__', '__init_subclass__', '__iter__', '__le__', '__len__', '__lt__', '__mul__', '__ne__', '__new__', '__reduce__', '__reduce_ex__', '__repr__', '__rmul__', '__setattr__', '__sizeof__', '__str__', '__subclasshook__', 'count', 'index']\n"
          ]
        }
      ]
    },
    {
      "cell_type": "markdown",
      "source": [
        "#set"
      ],
      "metadata": {
        "id": "ksuW8ea8S1d7"
      }
    },
    {
      "cell_type": "code",
      "source": [
        "#what is set? and how can you define set\n",
        "#set is decalred {} and elements in the set is seprated by {,}\n",
        "#set is unodered, immutable, don't allow duplicates"
      ],
      "metadata": {
        "id": "F_ZsacOZS6VH"
      },
      "execution_count": null,
      "outputs": []
    },
    {
      "cell_type": "markdown",
      "source": [
        "set wont allow duplicates"
      ],
      "metadata": {
        "id": "q0vsn4HRTZJr"
      }
    },
    {
      "cell_type": "code",
      "source": [
        "s1 = {1,2,3,4,5,6,7,1,2,3,4,5,9}\n",
        "#what is length of s1\n",
        "print(len(s1))\n",
        "print(type(s1))\n",
        "print(s1)\n"
      ],
      "metadata": {
        "id": "Z9JuwelSTbkc"
      },
      "execution_count": null,
      "outputs": []
    },
    {
      "cell_type": "markdown",
      "source": [
        "set is unordered"
      ],
      "metadata": {
        "id": "wjeBzNg8T2kR"
      }
    },
    {
      "cell_type": "code",
      "source": [
        "s2={'apple',\"bananan\",\"kiwi\"}\n",
        "print(s2[0]) #'set' object is not subscriptable"
      ],
      "metadata": {
        "id": "pCvH1fdjT5Sf"
      },
      "execution_count": null,
      "outputs": []
    },
    {
      "cell_type": "code",
      "source": [
        "a = input()\n",
        "print(a[::-1])"
      ],
      "metadata": {
        "colab": {
          "base_uri": "https://localhost:8080/"
        },
        "id": "MwzOq0JMUt-u",
        "outputId": "93a0b588-5b8c-49f7-eb3e-801a6f56af7f"
      },
      "execution_count": null,
      "outputs": [
        {
          "output_type": "stream",
          "name": "stdout",
          "text": [
            "madam\n",
            "madam\n"
          ]
        }
      ]
    },
    {
      "cell_type": "markdown",
      "source": [
        "set is Immutable\n",
        "\n",
        "1. in sets we cannot replace or swap the items but\n",
        "2. we can add the new items or data to the sets\n",
        "3. And we can remove the elements from the sets\n"
      ],
      "metadata": {
        "id": "08EzJ-k_NVBe"
      }
    },
    {
      "cell_type": "markdown",
      "source": [
        "**sets we cannot replace or swap the items**"
      ],
      "metadata": {
        "id": "ozJeUX6BN8C6"
      }
    },
    {
      "cell_type": "code",
      "source": [
        "s2 ={\"python\",\"java\",\"c++\",\"c\",\"c\",\"c\"}\n",
        "print(len(s2))\n",
        "s2[4] = 'R'\n",
        "print(s2)\n",
        "#Note:- we cannot replace the items in the set becuase sets are unordered means iteams in the set doesn't index position number"
      ],
      "metadata": {
        "id": "sJY_mV0QU7md"
      },
      "execution_count": null,
      "outputs": []
    },
    {
      "cell_type": "markdown",
      "source": [
        "How can we can add the new items or data to the sets"
      ],
      "metadata": {
        "id": "m2lLQdXIPyeE"
      }
    },
    {
      "cell_type": "code",
      "source": [
        "print(dir(s2))\n",
        "\"\"\"'add', 'clear', 'copy', 'difference', 'difference_update', 'discard', 'intersection',\n",
        "'intersection_update', 'isdisjoint', 'issubset', 'issuperset', 'pop', 'remove',\n",
        "'symmetric_difference', 'symmetric_difference_update', 'union', 'update' \"\"\""
      ],
      "metadata": {
        "colab": {
          "base_uri": "https://localhost:8080/"
        },
        "id": "wOWaEUTMPWmL",
        "outputId": "e4152b45-6f03-4ba0-c0c5-75d9d121dffa"
      },
      "execution_count": null,
      "outputs": [
        {
          "output_type": "stream",
          "name": "stdout",
          "text": [
            "['__and__', '__class__', '__class_getitem__', '__contains__', '__delattr__', '__dir__', '__doc__', '__eq__', '__format__', '__ge__', '__getattribute__', '__gt__', '__hash__', '__iand__', '__init__', '__init_subclass__', '__ior__', '__isub__', '__iter__', '__ixor__', '__le__', '__len__', '__lt__', '__ne__', '__new__', '__or__', '__rand__', '__reduce__', '__reduce_ex__', '__repr__', '__ror__', '__rsub__', '__rxor__', '__setattr__', '__sizeof__', '__str__', '__sub__', '__subclasshook__', '__xor__', 'add', 'clear', 'copy', 'difference', 'difference_update', 'discard', 'intersection', 'intersection_update', 'isdisjoint', 'issubset', 'issuperset', 'pop', 'remove', 'symmetric_difference', 'symmetric_difference_update', 'union', 'update']\n"
          ]
        }
      ]
    },
    {
      "cell_type": "code",
      "source": [
        "#add() in sets if we add data it doesnot have any indexposition and it can store any where in the set\n",
        "s3 = {2,3,4,5,6,1,9,8,7}\n",
        "s3.add(10)\n",
        "print(s3)\n",
        "#can we add a string into set of numbers-->yes\n",
        "s3.add('hello')\n",
        "print(s3)"
      ],
      "metadata": {
        "colab": {
          "base_uri": "https://localhost:8080/"
        },
        "id": "YmszGe9FQTYr",
        "outputId": "3dce3a8f-7133-4919-ebe4-72586ec76ed5"
      },
      "execution_count": null,
      "outputs": [
        {
          "output_type": "stream",
          "name": "stdout",
          "text": [
            "{1, 2, 3, 4, 5, 6, 7, 8, 9, 10}\n",
            "{1, 2, 3, 4, 5, 6, 7, 8, 9, 10, 'hello'}\n"
          ]
        }
      ]
    },
    {
      "cell_type": "code",
      "source": [
        "s4= {\"apple\",\"banana\",\"kiwi\"}\n",
        "s4.add('Cherries')\n",
        "print(s4)"
      ],
      "metadata": {
        "colab": {
          "base_uri": "https://localhost:8080/"
        },
        "id": "fNhV1Sr-Rspk",
        "outputId": "0e153d1e-9fc6-447e-ef33-802dcf428a5d"
      },
      "execution_count": null,
      "outputs": [
        {
          "output_type": "stream",
          "name": "stdout",
          "text": [
            "{'banana', 'kiwi', 'apple', 'Cherries'}\n"
          ]
        }
      ]
    },
    {
      "cell_type": "code",
      "source": [
        "#How to add the multiple items in set?\n",
        "#what is the default index position when you add multiple items\n",
        "#no indexposition bcz it is unordered"
      ],
      "metadata": {
        "id": "wEpko8KHSTO0"
      },
      "execution_count": null,
      "outputs": []
    },
    {
      "cell_type": "code",
      "source": [
        "#by using \"update\"\n",
        "s5 ={'banana', 'kiwi', 'apple', 'Cherries'}\n",
        "s6 = {1,2,3,4,5,6}\n",
        "s5.update(s6)\n",
        "print(s5)"
      ],
      "metadata": {
        "colab": {
          "base_uri": "https://localhost:8080/"
        },
        "id": "yBGPHwikR4e0",
        "outputId": "b5acdb2c-a48a-4dc8-dcd0-6a8d2cfb5aa2"
      },
      "execution_count": null,
      "outputs": [
        {
          "output_type": "stream",
          "name": "stdout",
          "text": [
            "{'banana', 1, 2, 3, 4, 5, 6, 'kiwi', 'apple', 'Cherries'}\n"
          ]
        }
      ]
    },
    {
      "cell_type": "markdown",
      "source": [
        "How to remove the items from set?"
      ],
      "metadata": {
        "id": "g8dKV1voTRRT"
      }
    },
    {
      "cell_type": "code",
      "source": [
        "s7 = {'banana', 1, 2, 3, 4, 5, 6, 'kiwi', 'apple', 'Cherries'}\n",
        "#i want to remove \"4\" from above set\n",
        "print(s7.pop()) #pop() is a bad practice"
      ],
      "metadata": {
        "id": "OiL1FEfHTUil"
      },
      "execution_count": null,
      "outputs": []
    },
    {
      "cell_type": "code",
      "source": [
        "print(s7)"
      ],
      "metadata": {
        "id": "paJoawAeToRy"
      },
      "execution_count": null,
      "outputs": []
    },
    {
      "cell_type": "code",
      "source": [
        "#remove(item name)\n",
        "s7.remove(4)\n",
        "print(s7)"
      ],
      "metadata": {
        "id": "va2lSdG-T2Kq"
      },
      "execution_count": null,
      "outputs": []
    },
    {
      "cell_type": "code",
      "source": [
        "s7.remove('kiwi')\n",
        "print(s7)"
      ],
      "metadata": {
        "id": "TDZ0r0sPUFEo"
      },
      "execution_count": null,
      "outputs": []
    },
    {
      "cell_type": "code",
      "source": [
        "s7.discard('apple')\n",
        "print(s7)"
      ],
      "metadata": {
        "id": "kc4F39taUdYt"
      },
      "execution_count": null,
      "outputs": []
    },
    {
      "cell_type": "code",
      "source": [
        "#what is the dofference between \"remove()\" and \"discard()\"?\n",
        "#remove() if the item or data is present then it removes otherwise it rises an error\n",
        "#discard() if the items present or not it wont rise the error"
      ],
      "metadata": {
        "id": "Fygi-7_VUkU3"
      },
      "execution_count": null,
      "outputs": []
    },
    {
      "cell_type": "code",
      "source": [
        "#can we delete the reange of items from the set---> no\n",
        "#can we delete entire set---> yes\n",
        "del s7\n",
        "print(s7)"
      ],
      "metadata": {
        "id": "pOBJdA8eVBHK"
      },
      "execution_count": null,
      "outputs": []
    },
    {
      "cell_type": "code",
      "source": [
        "s1 = {\"a\",\"b\",\"c\",\"d\"}\n",
        "s2 = {\"d\",\"e\",\"f\",\"g\"}\n",
        "s1.intersection(s2)"
      ],
      "metadata": {
        "colab": {
          "base_uri": "https://localhost:8080/"
        },
        "id": "LWPv7zmzWwu_",
        "outputId": "8bdc6aed-0a0b-43d6-8856-759071a81f60"
      },
      "execution_count": null,
      "outputs": [
        {
          "output_type": "execute_result",
          "data": {
            "text/plain": [
              "{'d'}"
            ]
          },
          "metadata": {},
          "execution_count": 18
        }
      ]
    },
    {
      "cell_type": "code",
      "source": [
        "s1.union(s2)"
      ],
      "metadata": {
        "colab": {
          "base_uri": "https://localhost:8080/"
        },
        "id": "sBKZu4ZiXF_m",
        "outputId": "b2272b21-2b29-4412-e0d1-9f70aff42621"
      },
      "execution_count": null,
      "outputs": [
        {
          "output_type": "execute_result",
          "data": {
            "text/plain": [
              "{'a', 'b', 'c', 'd', 'e', 'f', 'g'}"
            ]
          },
          "metadata": {},
          "execution_count": 20
        }
      ]
    },
    {
      "cell_type": "markdown",
      "source": [
        "**Dictionary**"
      ],
      "metadata": {
        "id": "9n_ObosyXWS1"
      }
    },
    {
      "cell_type": "code",
      "source": [
        "#what is dictionary and how can you define it?\n",
        "#how can we decalre a dictionary?\n",
        "#where you can store the data in dictionary?\n",
        "#dictionary can be declared {},each item is sperated {,} comma\n",
        "#{key:value} pairs\n",
        "#dictionary is unordered, it won't allows duplicates, mutable(changable)"
      ],
      "metadata": {
        "id": "Q_K8KSLPXriS"
      },
      "execution_count": null,
      "outputs": []
    },
    {
      "cell_type": "code",
      "source": [
        "#dictionary won't allow the duplicates?\n",
        "d1 = {\n",
        "    \"name\":\"shah\",\n",
        "    \"age\": 29,\n",
        "    \"mobile\": 9876543210,\n",
        "    \"bike\" : \"RE\",\n",
        "    \"education\": \"B.tech\",\n",
        "    \"education\": \"masters\"\n",
        "}\n",
        "print(len(d1))\n",
        "print(type(d1))\n",
        "print(d1)"
      ],
      "metadata": {
        "colab": {
          "base_uri": "https://localhost:8080/"
        },
        "id": "u196AHsyYtT7",
        "outputId": "2d9c2a56-ce7e-45a3-e773-bc40edb09d7b"
      },
      "execution_count": null,
      "outputs": [
        {
          "output_type": "stream",
          "name": "stdout",
          "text": [
            "5\n",
            "<class 'dict'>\n",
            "{'name': 'shah', 'age': 29, 'mobile': 9876543210, 'bike': 'RE', 'education': 'masters'}\n"
          ]
        }
      ]
    },
    {
      "cell_type": "markdown",
      "source": [
        "**dictionary is unordered**"
      ],
      "metadata": {
        "id": "Cxr0_iavaGJ4"
      }
    },
    {
      "cell_type": "code",
      "source": [
        "d1 = {\n",
        "    \"name\":\"shah\",\n",
        "    \"age\": 29,\n",
        "    \"mobile\": 9876543210,\n",
        "    \"bike\" : \"RE\",\n",
        "    \"education\": \"B.tech\",\n",
        "    \"education\": \"masters\"\n",
        "}\n",
        "print(d1[1])  #key error"
      ],
      "metadata": {
        "id": "rW1lHGk_Z_j7"
      },
      "execution_count": null,
      "outputs": []
    },
    {
      "cell_type": "code",
      "source": [
        "#how can we access the values from dictionary\n",
        "#by using key name\n",
        "print(d1['bike'])\n",
        "#we cannot access the range of keys"
      ],
      "metadata": {
        "id": "XDgGfYD1aaD5"
      },
      "execution_count": null,
      "outputs": []
    },
    {
      "cell_type": "markdown",
      "source": [
        "**dictionary is mutable**"
      ],
      "metadata": {
        "id": "rrN6wzfaa6Hj"
      }
    },
    {
      "cell_type": "code",
      "source": [
        "#1.replace the items in dictionar\n",
        "d1['name'] = \"shahul\"\n",
        "print(d1)"
      ],
      "metadata": {
        "colab": {
          "base_uri": "https://localhost:8080/"
        },
        "id": "xDSuaqkJa46J",
        "outputId": "38888d5f-04ae-4b41-b089-e837dc9b83a1"
      },
      "execution_count": null,
      "outputs": [
        {
          "output_type": "stream",
          "name": "stdout",
          "text": [
            "{'name': 'shahul', 'age': 29, 'mobile': 9876543210, 'bike': 'RE', 'education': 'masters'}\n"
          ]
        }
      ]
    },
    {
      "cell_type": "code",
      "source": [
        "d1['mobile'] = 9803287467\n",
        "d1"
      ],
      "metadata": {
        "id": "axa8DRz_bp-k"
      },
      "execution_count": null,
      "outputs": []
    },
    {
      "cell_type": "code",
      "source": [
        "#2.add the new items to the dictionary\n",
        "d1['address'] = \"Hyderabad\"\n",
        "d1"
      ],
      "metadata": {
        "colab": {
          "base_uri": "https://localhost:8080/"
        },
        "id": "UTI7aM-Yb1E2",
        "outputId": "349ac125-745c-4a71-9c1a-8e9f9847d457"
      },
      "execution_count": null,
      "outputs": [
        {
          "output_type": "execute_result",
          "data": {
            "text/plain": [
              "{'name': 'shahul',\n",
              " 'mobile': 9803287467,\n",
              " 'bike': 'RE',\n",
              " 'education': 'masters',\n",
              " 'address': 'Hyderabad'}"
            ]
          },
          "metadata": {},
          "execution_count": 35
        }
      ]
    },
    {
      "cell_type": "code",
      "source": [
        "#remove the items from d1\n",
        "print(dir(d1))"
      ],
      "metadata": {
        "colab": {
          "base_uri": "https://localhost:8080/"
        },
        "id": "BBVBZQR5cSGG",
        "outputId": "f3a8c393-10d6-4268-f513-2a3f64b29318"
      },
      "execution_count": null,
      "outputs": [
        {
          "output_type": "stream",
          "name": "stdout",
          "text": [
            "['__class__', '__class_getitem__', '__contains__', '__delattr__', '__delitem__', '__dir__', '__doc__', '__eq__', '__format__', '__ge__', '__getattribute__', '__getitem__', '__gt__', '__hash__', '__init__', '__init_subclass__', '__ior__', '__iter__', '__le__', '__len__', '__lt__', '__ne__', '__new__', '__or__', '__reduce__', '__reduce_ex__', '__repr__', '__reversed__', '__ror__', '__setattr__', '__setitem__', '__sizeof__', '__str__', '__subclasshook__', 'clear', 'copy', 'fromkeys', 'get', 'items', 'keys', 'pop', 'popitem', 'setdefault', 'update', 'values']\n"
          ]
        }
      ]
    },
    {
      "cell_type": "code",
      "source": [
        "#pop(key_name)\n",
        "d1.pop('age')"
      ],
      "metadata": {
        "id": "WrwrdykYcynd"
      },
      "execution_count": null,
      "outputs": []
    },
    {
      "cell_type": "code",
      "source": [
        "#clear\n",
        "d1.clear()\n",
        "d1"
      ],
      "metadata": {
        "id": "sC99Ij-DdEBY"
      },
      "execution_count": null,
      "outputs": []
    },
    {
      "cell_type": "code",
      "source": [
        "del d1\n",
        "d1"
      ],
      "metadata": {
        "id": "jTx2rev2dLHL"
      },
      "execution_count": null,
      "outputs": []
    },
    {
      "cell_type": "code",
      "source": [
        "d2 = {'name': 'shahul',\n",
        " 'mobile': 9803287467,\n",
        " 'bike': 'RE',\n",
        " 'education': 'masters',\n",
        " 'address': 'Hyderabad'}\n",
        " #from dictionary print only the keys\n",
        "\n",
        "print(d2.keys())\n",
        "print(d2.values())\n",
        "print(d2.items())"
      ],
      "metadata": {
        "colab": {
          "base_uri": "https://localhost:8080/"
        },
        "id": "1yaMN4brdTd0",
        "outputId": "cb176650-70ef-4f89-f655-26caaba27249"
      },
      "execution_count": null,
      "outputs": [
        {
          "output_type": "stream",
          "name": "stdout",
          "text": [
            "dict_keys(['name', 'mobile', 'bike', 'education', 'address'])\n",
            "dict_values(['shahul', 9803287467, 'RE', 'masters', 'Hyderabad'])\n",
            "dict_items([('name', 'shahul'), ('mobile', 9803287467), ('bike', 'RE'), ('education', 'masters'), ('address', 'Hyderabad')])\n"
          ]
        }
      ]
    },
    {
      "cell_type": "code",
      "source": [
        "d2 = {'name': 'shahul',\n",
        " 'mobile': 9803287467,\n",
        " 'bike': 'RE',\n",
        "'fruits':[\"mango\",\"apple\",\"kiwi\"]\n",
        "}\n",
        "#replace \"kiwi\" with watermelon\n",
        "d2['fruits'][2] = \"watermelon\"\n",
        "d2"
      ],
      "metadata": {
        "id": "VS2ofrXDdXRX"
      },
      "execution_count": null,
      "outputs": []
    },
    {
      "cell_type": "code",
      "source": [
        "#remove apple and watermelone\n",
        "d2['fruits'].remove('apple')\n",
        "d2"
      ],
      "metadata": {
        "id": "WPzHSCiOeYa2"
      },
      "execution_count": null,
      "outputs": []
    },
    {
      "cell_type": "code",
      "source": [
        "d2['fruits'].pop(1)\n",
        "d2"
      ],
      "metadata": {
        "id": "YFUyUeQQe2pC"
      },
      "execution_count": null,
      "outputs": []
    },
    {
      "cell_type": "code",
      "source": [
        "d2.clear()\n",
        "d2"
      ],
      "metadata": {
        "colab": {
          "base_uri": "https://localhost:8080/"
        },
        "id": "U_YAh0FGfSkO",
        "outputId": "04437fff-00c3-45b7-b221-b0642066456e"
      },
      "execution_count": null,
      "outputs": [
        {
          "output_type": "execute_result",
          "data": {
            "text/plain": [
              "{}"
            ]
          },
          "metadata": {},
          "execution_count": 48
        }
      ]
    },
    {
      "cell_type": "code",
      "source": [
        "del d2\n",
        "d2"
      ],
      "metadata": {
        "id": "SHAx5i_5fX43"
      },
      "execution_count": null,
      "outputs": []
    },
    {
      "cell_type": "code",
      "source": [
        "\"\"\"list:- is a ordered, muttable, allows the duplicates-->[]\n",
        "                  adding methods:- append, insert(index, itemname),extend\n",
        "                  remove method :- pop(),remove, del l[:],clear\n",
        "   tuple:- is  ordered, immutable, allows the duplicates-->()\n",
        "   set :-->  is unordered, immutable, doesn't allow duplicates---> {}\n",
        "                           adding method:- add, update\n",
        "                           remove methods:- remove,discard,pop(bad practice),clear\n",
        "   dictionary--> unordered, mutable, it wont allow the duplicates\n",
        "              -->  key:value pairs\n",
        "              -->  replace by using specific key name we can replace the items in the dictionary\n",
        "              -->  adding items if you give new key name d1['new_key] = \"value\"\n",
        "              -->  remove method:- pop(key_name), clear,popitem()\"\"\""
      ],
      "metadata": {
        "id": "N8LG2c4FV7YP"
      },
      "execution_count": null,
      "outputs": []
    },
    {
      "cell_type": "code",
      "source": [
        "d2 = {'name': 'shahul',\n",
        " 'mobile': 9803287467,\n",
        " 'bike': 'RE',\n",
        "'fruits':[\"mango\",\"apple\",\"kiwi\"]\n",
        "}\n",
        "d2.popitem()\n",
        "print(d2)"
      ],
      "metadata": {
        "colab": {
          "base_uri": "https://localhost:8080/"
        },
        "id": "Mkmik9HWYoGw",
        "outputId": "f7425b91-14c2-4caf-a2c4-1a0df4030428"
      },
      "execution_count": null,
      "outputs": [
        {
          "output_type": "stream",
          "name": "stdout",
          "text": [
            "{'name': 'shahul', 'mobile': 9803287467, 'bike': 'RE'}\n"
          ]
        }
      ]
    },
    {
      "cell_type": "markdown",
      "source": [
        "#Functions"
      ],
      "metadata": {
        "id": "rCSMJ2gxZ_aO"
      }
    },
    {
      "cell_type": "code",
      "source": [
        "#what is a function?\n",
        "#function is a block of code which can be executed when you call it\n",
        "#what is purpose of the functions?\n",
        "#To avoid the duplicate codes"
      ],
      "metadata": {
        "id": "nbEm6VcTZ-T9"
      },
      "execution_count": null,
      "outputs": []
    },
    {
      "cell_type": "code",
      "source": [
        "#How to create a function?\n",
        "#to create a function we use \"def\"-->means your defining a function\n",
        "def f1():\n",
        "  print(\"Hello i am defining a function to test it\")\n",
        "#How to call the function\n",
        "f1()"
      ],
      "metadata": {
        "colab": {
          "base_uri": "https://localhost:8080/"
        },
        "id": "A4Je0Poub-q3",
        "outputId": "e9c470a2-4ac6-4471-911e-55e550b87aae"
      },
      "execution_count": null,
      "outputs": [
        {
          "output_type": "stream",
          "name": "stdout",
          "text": [
            "Hello i am defining a function to test it\n"
          ]
        }
      ]
    },
    {
      "cell_type": "code",
      "source": [
        "a = \"hello world\"\n",
        "print(a.replace('world','universe'))"
      ],
      "metadata": {
        "colab": {
          "base_uri": "https://localhost:8080/"
        },
        "id": "7H9BrnZncnkb",
        "outputId": "fa38b313-f833-4e45-b532-e1a73b773e4e"
      },
      "execution_count": null,
      "outputs": [
        {
          "output_type": "stream",
          "name": "stdout",
          "text": [
            "hello universe\n"
          ]
        }
      ]
    },
    {
      "cell_type": "code",
      "source": [
        "def shah(name,age,education):\n",
        "  print(f'Hi {name}, please check your details, age {age}, education {education}')\n",
        "\n",
        "shah(\"shahul\",28,\"ms\")"
      ],
      "metadata": {
        "colab": {
          "base_uri": "https://localhost:8080/"
        },
        "id": "HrXpNe-Bd0Oy",
        "outputId": "48228964-991a-4ade-95e5-695554bbc3ea"
      },
      "execution_count": null,
      "outputs": [
        {
          "output_type": "stream",
          "name": "stdout",
          "text": [
            "Hi shahul, please check your details, age 28, education ms\n"
          ]
        }
      ]
    },
    {
      "cell_type": "code",
      "source": [
        "#what is a parameter?\n",
        "#when we are defining a funtion we are creating varaibes which are known as parameters\n",
        "#what is an argument?\n",
        "#when your calling a function your passing some values which are known as arguments\n",
        "#Note:- when you are calling a function No. of parameters == No of arguments,\n",
        "#if there is mismatch error will occurs"
      ],
      "metadata": {
        "id": "EncbwbOyfIS-"
      },
      "execution_count": null,
      "outputs": []
    },
    {
      "cell_type": "code",
      "source": [
        "def check_number(num):\n",
        "  if num%2==0:\n",
        "    print(f'given number {num} is even')\n",
        "  else:\n",
        "    print(f'given number {num} is odd')\n",
        "a = int(input(\"enter the number\"))\n",
        "check_number(a)"
      ],
      "metadata": {
        "id": "p_8izhXshScb"
      },
      "execution_count": null,
      "outputs": []
    },
    {
      "cell_type": "code",
      "source": [
        "#CHECK THE GIVEN number is +ve or -ve or neutral\n",
        "def pos_neg_neu(num = 0):\n",
        "  if num>0:\n",
        "    print(\"+ve\")\n",
        "  elif num == 0:\n",
        "    print(\"neu\")\n",
        "  else:\n",
        "    print(\"-ve\")\n",
        "\n",
        "a = int(input(\"enter the number: \"))\n",
        "pos_neg_neu(a)"
      ],
      "metadata": {
        "id": "GS2S4tGClr6C",
        "colab": {
          "base_uri": "https://localhost:8080/"
        },
        "outputId": "5a3f9807-8b18-4fa4-803f-1256b7554f99"
      },
      "execution_count": null,
      "outputs": [
        {
          "output_type": "stream",
          "name": "stdout",
          "text": [
            "enter the number: 789\n",
            "+ve\n"
          ]
        }
      ]
    },
    {
      "cell_type": "markdown",
      "source": [
        "21-11-2024"
      ],
      "metadata": {
        "id": "UJ460fpxKos4"
      }
    },
    {
      "cell_type": "code",
      "source": [
        "#default function\n",
        "#ARGS & KWARGS\n",
        "#TESTCASES-->5\n",
        "#LC,"
      ],
      "metadata": {
        "id": "E06SPyoOlRcI"
      },
      "execution_count": null,
      "outputs": []
    },
    {
      "cell_type": "markdown",
      "source": [
        "**Default Function**"
      ],
      "metadata": {
        "id": "LWK53UxELAsN"
      }
    },
    {
      "cell_type": "code",
      "source": [
        "#what is a default function?\n",
        "def f1(x=\"No argument given\"):\n",
        "  print(x)\n",
        "f1()\n",
        "\"\"\"when you are defining the function we are creating varaibles which are known as\n",
        "parameters. so, to this parameters we are assigning a value from this when you call a function\n",
        "without passing an argument it excutes the function with default value we have given\"\"\"\n"
      ],
      "metadata": {
        "colab": {
          "base_uri": "https://localhost:8080/",
          "height": 70
        },
        "id": "UPsfBCt1K9z7",
        "outputId": "8daafe2d-ece6-4143-9f1f-d7d3b6f3546f"
      },
      "execution_count": null,
      "outputs": [
        {
          "output_type": "stream",
          "name": "stdout",
          "text": [
            "No argument given\n"
          ]
        },
        {
          "output_type": "execute_result",
          "data": {
            "text/plain": [
              "'when you are defining the function we are creating varaibles which are known as \\nparameters. so, to this parameters we are assigning a value from this when you call a function\\nwithout passing an argument it excutes the function with default value we have given'"
            ],
            "application/vnd.google.colaboratory.intrinsic+json": {
              "type": "string"
            }
          },
          "metadata": {},
          "execution_count": 13
        }
      ]
    },
    {
      "cell_type": "code",
      "source": [
        "#what can i do when i dont know how many parameters do we need to pass?\n",
        "def details(**name):\n",
        "  print(name)\n",
        "\n",
        "details(name=\"zenvius\", Type = \"pvt ltd\", work = 'IT Training and staffing',place= 'hyderabad')"
      ],
      "metadata": {
        "id": "OmvX6Ig9lRaA",
        "colab": {
          "base_uri": "https://localhost:8080/"
        },
        "outputId": "e677288d-a2dd-4732-a0af-cf640ee9b62d"
      },
      "execution_count": null,
      "outputs": [
        {
          "output_type": "stream",
          "name": "stdout",
          "text": [
            "{'name': 'zenvius', 'Type': 'pvt ltd', 'work': 'IT Training and staffing', 'place': 'hyderabad'}\n"
          ]
        }
      ]
    },
    {
      "cell_type": "code",
      "source": [
        "##what can i do when i dont know how many Arguments do we need to pass?\n",
        "def prog_language(*name):\n",
        "  print(name)\n",
        "prog_language('python','java','c++')\n",
        "prog_language('python,java','c++','c','.net')\n"
      ],
      "metadata": {
        "id": "zQHHX0J2lRWH",
        "colab": {
          "base_uri": "https://localhost:8080/"
        },
        "outputId": "4d1a8974-30c3-4a21-e04a-2677ba7c58ea"
      },
      "execution_count": null,
      "outputs": [
        {
          "output_type": "stream",
          "name": "stdout",
          "text": [
            "('python', 'java', 'c++')\n",
            "('python,java', 'c++', 'c', '.net')\n"
          ]
        }
      ]
    },
    {
      "cell_type": "code",
      "source": [
        "\"\"\" **--> KWARGS--> Keyword arbitraray arguments-->when we dont know how many parameters do we\n",
        "                                                   need to pass use KWARGS\n",
        "                                                -->we can able set what of data we are passing BCZ\n",
        "                                                   by default the data is stored on the form of \"dictionary\"\n",
        "    *--> ARGS---> Arbitrary arguments-->when we dont know how many parameters do we\n",
        "                                        need to pass use ARGS\n",
        "                                      --> default data type for ARGS is Tuple \"\"\""
      ],
      "metadata": {
        "id": "LHThUgGalRTK"
      },
      "execution_count": null,
      "outputs": []
    },
    {
      "cell_type": "markdown",
      "source": [
        "**Return**"
      ],
      "metadata": {
        "id": "z9ltL-rpSVII"
      }
    },
    {
      "cell_type": "code",
      "source": [
        "#what is return?\n",
        "# return keyword  returns or send back the values to the caller\n",
        "# it is similiar to the print statement\n",
        "# when you are using the return we need to call the function with print()"
      ],
      "metadata": {
        "id": "to_gz8qLlRQb"
      },
      "execution_count": null,
      "outputs": []
    },
    {
      "cell_type": "code",
      "source": [
        "def f1():\n",
        "  return \"hello\"\n",
        "print(f1())"
      ],
      "metadata": {
        "colab": {
          "base_uri": "https://localhost:8080/"
        },
        "id": "-C9-r97Ej-im",
        "outputId": "9266f90c-7d23-4c63-eb64-cffb00204cf2"
      },
      "execution_count": null,
      "outputs": [
        {
          "output_type": "stream",
          "name": "stdout",
          "text": [
            "hello\n"
          ]
        }
      ]
    },
    {
      "cell_type": "code",
      "source": [
        "#write a python function to summ all the item in a list?\n",
        "list = [10,20,30,40]\n",
        "#output = 20\n",
        "sum = 0\n",
        "for i in list:\n",
        "  sum = sum + i\n",
        "print(sum)\n"
      ],
      "metadata": {
        "id": "CQNBPpXbj-e0"
      },
      "execution_count": null,
      "outputs": []
    },
    {
      "cell_type": "code",
      "source": [
        "def sum_items(*number):\n",
        "  sum = 0\n",
        "  for i in list:\n",
        "    sum = sum + i\n",
        "  return(sum)\n",
        "print(sum_items(8,9,10,30))"
      ],
      "metadata": {
        "id": "26B8uEoTj-a5"
      },
      "execution_count": null,
      "outputs": []
    },
    {
      "cell_type": "code",
      "source": [
        "#write a python function that takes a list and returns a distinct values in new list\n",
        "l1 =[1,2,3,3,4,5,6,1,2,3,4,9]\n",
        "x = []\n",
        "for i in l1:\n",
        "  if i not in x:\n",
        "    x.append(i)\n",
        "print(x)\n",
        "print(set(l1))"
      ],
      "metadata": {
        "id": "igK2hZJPj-Wg",
        "colab": {
          "base_uri": "https://localhost:8080/"
        },
        "outputId": "d377d562-a471-4766-aa1d-daf418c8ae24"
      },
      "execution_count": null,
      "outputs": [
        {
          "output_type": "stream",
          "name": "stdout",
          "text": [
            "[1, 2, 3, 4, 5, 6, 9]\n",
            "{1, 2, 3, 4, 5, 6, 9}\n"
          ]
        }
      ]
    },
    {
      "cell_type": "code",
      "source": [
        "def distinct(*l1):\n",
        "  x = []\n",
        "  for i in l1:\n",
        "    if i not in x:\n",
        "      x.append(i)\n",
        "  return x\n",
        "print(distinct(98,97,96,95,94,94,93,93,97))"
      ],
      "metadata": {
        "id": "1Xo8Q_6Dj-ST",
        "colab": {
          "base_uri": "https://localhost:8080/"
        },
        "outputId": "bfb8a58e-a27b-44c0-eacc-98989dcda3d7"
      },
      "execution_count": null,
      "outputs": [
        {
          "output_type": "stream",
          "name": "stdout",
          "text": [
            "[98]\n"
          ]
        }
      ]
    },
    {
      "cell_type": "code",
      "source": [
        "def distinct(*l1):\n",
        "  x = []\n",
        "  for i in l1:\n",
        "    if i not in x:\n",
        "      x.append(i)\n",
        "  print(x)\n",
        "distinct(98,97,96,95,94,94,93,93,97)"
      ],
      "metadata": {
        "id": "jfEvZSuEj-PJ",
        "colab": {
          "base_uri": "https://localhost:8080/"
        },
        "outputId": "9d3d6396-7ff8-4078-d10d-784bb53eea85"
      },
      "execution_count": null,
      "outputs": [
        {
          "output_type": "stream",
          "name": "stdout",
          "text": [
            "[98, 97, 96, 95, 94, 93]\n"
          ]
        }
      ]
    },
    {
      "cell_type": "code",
      "source": [],
      "metadata": {
        "id": "69GRbd5rj-MK"
      },
      "execution_count": null,
      "outputs": []
    },
    {
      "cell_type": "code",
      "source": [],
      "metadata": {
        "id": "s67OXQTRj9-_"
      },
      "execution_count": null,
      "outputs": []
    },
    {
      "cell_type": "code",
      "source": [
        "num = int(input(\"enter the number: \"))\n",
        "if num%2==0:\n",
        "    print(f'given number {num} is even')\n",
        "else:\n",
        "    print(f'given number {num} is odd')"
      ],
      "metadata": {
        "colab": {
          "base_uri": "https://localhost:8080/"
        },
        "id": "q-NrGHYliyL_",
        "outputId": "46b75239-c22c-40d9-85e1-dbb24b0f31a4"
      },
      "execution_count": null,
      "outputs": [
        {
          "output_type": "stream",
          "name": "stdout",
          "text": [
            "enter the number: 6789\n",
            "given number 6789 is odd\n"
          ]
        }
      ]
    },
    {
      "cell_type": "code",
      "source": [],
      "metadata": {
        "id": "2yUZGFz_jD-B"
      },
      "execution_count": null,
      "outputs": []
    },
    {
      "cell_type": "code",
      "source": [],
      "metadata": {
        "id": "ObQ7_mAbjD5v"
      },
      "execution_count": null,
      "outputs": []
    },
    {
      "cell_type": "code",
      "source": [],
      "metadata": {
        "id": "2PHj2lkUjD2c"
      },
      "execution_count": null,
      "outputs": []
    },
    {
      "cell_type": "code",
      "source": [],
      "metadata": {
        "id": "NKDilBCmjDyj"
      },
      "execution_count": null,
      "outputs": []
    },
    {
      "cell_type": "code",
      "source": [],
      "metadata": {
        "id": "HS_q8usbjDu5"
      },
      "execution_count": null,
      "outputs": []
    },
    {
      "cell_type": "code",
      "source": [],
      "metadata": {
        "id": "YtY9ReZ4jDrS"
      },
      "execution_count": null,
      "outputs": []
    },
    {
      "cell_type": "code",
      "source": [],
      "metadata": {
        "id": "oKs6bAzujDnO"
      },
      "execution_count": null,
      "outputs": []
    },
    {
      "cell_type": "code",
      "source": [],
      "metadata": {
        "id": "6JaxeNRojDjl"
      },
      "execution_count": null,
      "outputs": []
    },
    {
      "cell_type": "code",
      "source": [],
      "metadata": {
        "id": "JBeGGZdKjDgs"
      },
      "execution_count": null,
      "outputs": []
    },
    {
      "cell_type": "code",
      "source": [
        "b = int(input())\n",
        "check_number(b)"
      ],
      "metadata": {
        "colab": {
          "base_uri": "https://localhost:8080/"
        },
        "id": "wk_5aqZSjDdZ",
        "outputId": "67fa34e3-7c29-4ec3-e151-e840d924c63f"
      },
      "execution_count": null,
      "outputs": [
        {
          "output_type": "stream",
          "name": "stdout",
          "text": [
            "623\n",
            "given number 623 is odd\n"
          ]
        }
      ]
    }
  ]
}